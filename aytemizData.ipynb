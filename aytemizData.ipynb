{
 "cells": [
  {
   "cell_type": "code",
   "execution_count": null,
   "metadata": {},
   "outputs": [],
   "source": [
    "from bs4 import BeautifulSoup\n",
    "import xlsxwriter\n",
    "import requests, re, json\n",
    " \n",
    "pattern = re.compile('var markers = (.*?);')\n",
    " \n",
    "markersData = []\n",
    " \n",
    "\n",
    "workbook = xlsxwriter.Workbook('aygazData.xlsx')\n",
    "worksheet = workbook.add_worksheet()\n",
    " \n",
    "url = \"http://www.aytemiz.com.tr/haritalar/en-yakin-Aytemiz\"\n",
    "page = requests.get(url)\n",
    " \n",
    "\n",
    "soup = BeautifulSoup(page.content, 'html.parser')\n",
    " \n",
    "for script in soup.select(\"script\"):\n",
    "    if(pattern.match(script.get_text().encode('utf-8'))):\n",
    "        data = pattern.match(script.string)\n",
    "        markersData = json.loads(data.groups()[0])\n",
    "column = 0\n",
    " \n",
    "worksheet.write(0, column, 'Title')\n",
    "worksheet.write(0, column + 1, 'Latitude')\n",
    "worksheet.write(0, column + 2, 'Longitude')\n",
    "\n",
    "row = 1\n",
    " \n",
    "for item in markersData:\n",
    "    worksheet.write(row, column, item['Title'])\n",
    "    worksheet.write(row, column + 1, item['Lat'])\n",
    "    worksheet.write(row, column + 2, item['Lon'])\n",
    " \n",
    "    row += 1\n",
    "workbook.close()"
   ]
  }
 ],
 "metadata": {
  "kernelspec": {
   "display_name": "Python 3",
   "language": "python",
   "name": "python3"
  },
  "language_info": {
   "codemirror_mode": {
    "name": "ipython",
    "version": 3
   },
   "file_extension": ".py",
   "mimetype": "text/x-python",
   "name": "python",
   "nbconvert_exporter": "python",
   "pygments_lexer": "ipython3",
   "version": "3.6.6"
  }
 },
 "nbformat": 4,
 "nbformat_minor": 2
}
